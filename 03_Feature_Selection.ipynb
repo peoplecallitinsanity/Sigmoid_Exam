{
 "cells": [
  {
   "cell_type": "code",
   "execution_count": 68,
   "id": "837b509c",
   "metadata": {},
   "outputs": [],
   "source": [
    "#Importing libraries\n",
    "from sklearn.feature_selection import SelectKBest\n",
    "from sklearn.feature_selection import chi2\n",
    "from sklearn.feature_selection import RFE\n",
    "import pandas as pd\n",
    "import numpy as np\n",
    "from sklearn.linear_model import LogisticRegression\n",
    "from sklearn.ensemble import ExtraTreesClassifier\n",
    "import matplotlib.pyplot as plt\n",
    "from kydavra import PointBiserialCorrSelector\n",
    "from sklearn.decomposition import PCA"
   ]
  },
  {
   "cell_type": "code",
   "execution_count": 6,
   "id": "b537f952",
   "metadata": {
    "scrolled": false
   },
   "outputs": [
    {
     "data": {
      "text/html": [
       "<div>\n",
       "<style scoped>\n",
       "    .dataframe tbody tr th:only-of-type {\n",
       "        vertical-align: middle;\n",
       "    }\n",
       "\n",
       "    .dataframe tbody tr th {\n",
       "        vertical-align: top;\n",
       "    }\n",
       "\n",
       "    .dataframe thead th {\n",
       "        text-align: right;\n",
       "    }\n",
       "</style>\n",
       "<table border=\"1\" class=\"dataframe\">\n",
       "  <thead>\n",
       "    <tr style=\"text-align: right;\">\n",
       "      <th></th>\n",
       "      <th>age</th>\n",
       "      <th>workclass</th>\n",
       "      <th>education.num</th>\n",
       "      <th>marital.status</th>\n",
       "      <th>occupation</th>\n",
       "      <th>capital.gain</th>\n",
       "      <th>capital.loss</th>\n",
       "      <th>hours.per.week</th>\n",
       "      <th>race_Asian-Pac-Islander</th>\n",
       "      <th>race_Black</th>\n",
       "      <th>race_Other</th>\n",
       "      <th>race_White</th>\n",
       "      <th>sex_Male</th>\n",
       "      <th>income</th>\n",
       "    </tr>\n",
       "  </thead>\n",
       "  <tbody>\n",
       "    <tr>\n",
       "      <th>0</th>\n",
       "      <td>82.0</td>\n",
       "      <td>0.73885</td>\n",
       "      <td>9.0</td>\n",
       "      <td>0.027346</td>\n",
       "      <td>0.484014</td>\n",
       "      <td>0.0</td>\n",
       "      <td>4356.0</td>\n",
       "      <td>18.0</td>\n",
       "      <td>0.0</td>\n",
       "      <td>0.0</td>\n",
       "      <td>0.0</td>\n",
       "      <td>1.0</td>\n",
       "      <td>0.0</td>\n",
       "      <td>0.0</td>\n",
       "    </tr>\n",
       "    <tr>\n",
       "      <th>1</th>\n",
       "      <td>54.0</td>\n",
       "      <td>0.73885</td>\n",
       "      <td>4.0</td>\n",
       "      <td>0.138616</td>\n",
       "      <td>0.124875</td>\n",
       "      <td>0.0</td>\n",
       "      <td>3900.0</td>\n",
       "      <td>40.0</td>\n",
       "      <td>0.0</td>\n",
       "      <td>0.0</td>\n",
       "      <td>0.0</td>\n",
       "      <td>1.0</td>\n",
       "      <td>0.0</td>\n",
       "      <td>0.0</td>\n",
       "    </tr>\n",
       "    <tr>\n",
       "      <th>2</th>\n",
       "      <td>41.0</td>\n",
       "      <td>0.73885</td>\n",
       "      <td>10.0</td>\n",
       "      <td>0.031219</td>\n",
       "      <td>0.449034</td>\n",
       "      <td>0.0</td>\n",
       "      <td>3900.0</td>\n",
       "      <td>40.0</td>\n",
       "      <td>0.0</td>\n",
       "      <td>0.0</td>\n",
       "      <td>0.0</td>\n",
       "      <td>1.0</td>\n",
       "      <td>0.0</td>\n",
       "      <td>0.0</td>\n",
       "    </tr>\n",
       "    <tr>\n",
       "      <th>3</th>\n",
       "      <td>34.0</td>\n",
       "      <td>0.73885</td>\n",
       "      <td>9.0</td>\n",
       "      <td>0.138616</td>\n",
       "      <td>0.041578</td>\n",
       "      <td>0.0</td>\n",
       "      <td>3770.0</td>\n",
       "      <td>45.0</td>\n",
       "      <td>0.0</td>\n",
       "      <td>0.0</td>\n",
       "      <td>0.0</td>\n",
       "      <td>1.0</td>\n",
       "      <td>0.0</td>\n",
       "      <td>0.0</td>\n",
       "    </tr>\n",
       "    <tr>\n",
       "      <th>4</th>\n",
       "      <td>38.0</td>\n",
       "      <td>0.73885</td>\n",
       "      <td>6.0</td>\n",
       "      <td>0.031219</td>\n",
       "      <td>0.134483</td>\n",
       "      <td>0.0</td>\n",
       "      <td>3770.0</td>\n",
       "      <td>40.0</td>\n",
       "      <td>0.0</td>\n",
       "      <td>0.0</td>\n",
       "      <td>0.0</td>\n",
       "      <td>1.0</td>\n",
       "      <td>1.0</td>\n",
       "      <td>0.0</td>\n",
       "    </tr>\n",
       "    <tr>\n",
       "      <th>...</th>\n",
       "      <td>...</td>\n",
       "      <td>...</td>\n",
       "      <td>...</td>\n",
       "      <td>...</td>\n",
       "      <td>...</td>\n",
       "      <td>...</td>\n",
       "      <td>...</td>\n",
       "      <td>...</td>\n",
       "      <td>...</td>\n",
       "      <td>...</td>\n",
       "      <td>...</td>\n",
       "      <td>...</td>\n",
       "      <td>...</td>\n",
       "      <td>...</td>\n",
       "    </tr>\n",
       "    <tr>\n",
       "      <th>30713</th>\n",
       "      <td>22.0</td>\n",
       "      <td>0.73885</td>\n",
       "      <td>10.0</td>\n",
       "      <td>0.322677</td>\n",
       "      <td>0.325116</td>\n",
       "      <td>0.0</td>\n",
       "      <td>0.0</td>\n",
       "      <td>40.0</td>\n",
       "      <td>0.0</td>\n",
       "      <td>0.0</td>\n",
       "      <td>0.0</td>\n",
       "      <td>1.0</td>\n",
       "      <td>1.0</td>\n",
       "      <td>0.0</td>\n",
       "    </tr>\n",
       "    <tr>\n",
       "      <th>30714</th>\n",
       "      <td>27.0</td>\n",
       "      <td>0.73885</td>\n",
       "      <td>12.0</td>\n",
       "      <td>0.466795</td>\n",
       "      <td>0.304957</td>\n",
       "      <td>0.0</td>\n",
       "      <td>0.0</td>\n",
       "      <td>38.0</td>\n",
       "      <td>0.0</td>\n",
       "      <td>0.0</td>\n",
       "      <td>0.0</td>\n",
       "      <td>1.0</td>\n",
       "      <td>0.0</td>\n",
       "      <td>0.0</td>\n",
       "    </tr>\n",
       "    <tr>\n",
       "      <th>30715</th>\n",
       "      <td>40.0</td>\n",
       "      <td>0.73885</td>\n",
       "      <td>9.0</td>\n",
       "      <td>0.466795</td>\n",
       "      <td>0.124875</td>\n",
       "      <td>0.0</td>\n",
       "      <td>0.0</td>\n",
       "      <td>40.0</td>\n",
       "      <td>0.0</td>\n",
       "      <td>0.0</td>\n",
       "      <td>0.0</td>\n",
       "      <td>1.0</td>\n",
       "      <td>1.0</td>\n",
       "      <td>1.0</td>\n",
       "    </tr>\n",
       "    <tr>\n",
       "      <th>30716</th>\n",
       "      <td>58.0</td>\n",
       "      <td>0.73885</td>\n",
       "      <td>9.0</td>\n",
       "      <td>0.027346</td>\n",
       "      <td>0.134483</td>\n",
       "      <td>0.0</td>\n",
       "      <td>0.0</td>\n",
       "      <td>40.0</td>\n",
       "      <td>0.0</td>\n",
       "      <td>0.0</td>\n",
       "      <td>0.0</td>\n",
       "      <td>1.0</td>\n",
       "      <td>0.0</td>\n",
       "      <td>0.0</td>\n",
       "    </tr>\n",
       "    <tr>\n",
       "      <th>30717</th>\n",
       "      <td>22.0</td>\n",
       "      <td>0.73885</td>\n",
       "      <td>9.0</td>\n",
       "      <td>0.322677</td>\n",
       "      <td>0.134483</td>\n",
       "      <td>0.0</td>\n",
       "      <td>0.0</td>\n",
       "      <td>20.0</td>\n",
       "      <td>0.0</td>\n",
       "      <td>0.0</td>\n",
       "      <td>0.0</td>\n",
       "      <td>1.0</td>\n",
       "      <td>1.0</td>\n",
       "      <td>0.0</td>\n",
       "    </tr>\n",
       "  </tbody>\n",
       "</table>\n",
       "<p>30718 rows × 14 columns</p>\n",
       "</div>"
      ],
      "text/plain": [
       "        age  workclass  education.num  marital.status  occupation  \\\n",
       "0      82.0    0.73885            9.0        0.027346    0.484014   \n",
       "1      54.0    0.73885            4.0        0.138616    0.124875   \n",
       "2      41.0    0.73885           10.0        0.031219    0.449034   \n",
       "3      34.0    0.73885            9.0        0.138616    0.041578   \n",
       "4      38.0    0.73885            6.0        0.031219    0.134483   \n",
       "...     ...        ...            ...             ...         ...   \n",
       "30713  22.0    0.73885           10.0        0.322677    0.325116   \n",
       "30714  27.0    0.73885           12.0        0.466795    0.304957   \n",
       "30715  40.0    0.73885            9.0        0.466795    0.124875   \n",
       "30716  58.0    0.73885            9.0        0.027346    0.134483   \n",
       "30717  22.0    0.73885            9.0        0.322677    0.134483   \n",
       "\n",
       "       capital.gain  capital.loss  hours.per.week  race_Asian-Pac-Islander  \\\n",
       "0               0.0        4356.0            18.0                      0.0   \n",
       "1               0.0        3900.0            40.0                      0.0   \n",
       "2               0.0        3900.0            40.0                      0.0   \n",
       "3               0.0        3770.0            45.0                      0.0   \n",
       "4               0.0        3770.0            40.0                      0.0   \n",
       "...             ...           ...             ...                      ...   \n",
       "30713           0.0           0.0            40.0                      0.0   \n",
       "30714           0.0           0.0            38.0                      0.0   \n",
       "30715           0.0           0.0            40.0                      0.0   \n",
       "30716           0.0           0.0            40.0                      0.0   \n",
       "30717           0.0           0.0            20.0                      0.0   \n",
       "\n",
       "       race_Black  race_Other  race_White  sex_Male  income  \n",
       "0             0.0         0.0         1.0       0.0     0.0  \n",
       "1             0.0         0.0         1.0       0.0     0.0  \n",
       "2             0.0         0.0         1.0       0.0     0.0  \n",
       "3             0.0         0.0         1.0       0.0     0.0  \n",
       "4             0.0         0.0         1.0       1.0     0.0  \n",
       "...           ...         ...         ...       ...     ...  \n",
       "30713         0.0         0.0         1.0       1.0     0.0  \n",
       "30714         0.0         0.0         1.0       0.0     0.0  \n",
       "30715         0.0         0.0         1.0       1.0     1.0  \n",
       "30716         0.0         0.0         1.0       0.0     0.0  \n",
       "30717         0.0         0.0         1.0       1.0     0.0  \n",
       "\n",
       "[30718 rows x 14 columns]"
      ]
     },
     "execution_count": 6,
     "metadata": {},
     "output_type": "execute_result"
    }
   ],
   "source": [
    "#Readind our new cleaned dataset\n",
    "df = pd.read_csv('data2.csv')\n",
    "#Removing first column\n",
    "df = df.drop(['Unnamed: 0'], axis = 1)\n",
    "df"
   ]
  },
  {
   "cell_type": "code",
   "execution_count": 28,
   "id": "6bbefb91",
   "metadata": {},
   "outputs": [],
   "source": [
    "#Defining X dataframe with features and y with target column\n",
    "X = df.iloc[:,0:13]\n",
    "y = df.iloc[:,13]"
   ]
  },
  {
   "cell_type": "markdown",
   "id": "6bbaca54",
   "metadata": {},
   "source": [
    "I will use 3 different feature selection models."
   ]
  },
  {
   "cell_type": "markdown",
   "id": "47f85596",
   "metadata": {},
   "source": [
    "## SelectKBest"
   ]
  },
  {
   "cell_type": "code",
   "execution_count": 41,
   "id": "19fea8b4",
   "metadata": {},
   "outputs": [
    {
     "data": {
      "text/html": [
       "<div>\n",
       "<style scoped>\n",
       "    .dataframe tbody tr th:only-of-type {\n",
       "        vertical-align: middle;\n",
       "    }\n",
       "\n",
       "    .dataframe tbody tr th {\n",
       "        vertical-align: top;\n",
       "    }\n",
       "\n",
       "    .dataframe thead th {\n",
       "        text-align: right;\n",
       "    }\n",
       "</style>\n",
       "<table border=\"1\" class=\"dataframe\">\n",
       "  <thead>\n",
       "    <tr style=\"text-align: right;\">\n",
       "      <th></th>\n",
       "      <th>Features</th>\n",
       "      <th>Score</th>\n",
       "    </tr>\n",
       "  </thead>\n",
       "  <tbody>\n",
       "    <tr>\n",
       "      <th>5</th>\n",
       "      <td>capital.gain</td>\n",
       "      <td>7.685745e+07</td>\n",
       "    </tr>\n",
       "    <tr>\n",
       "      <th>6</th>\n",
       "      <td>capital.loss</td>\n",
       "      <td>1.304208e+06</td>\n",
       "    </tr>\n",
       "    <tr>\n",
       "      <th>0</th>\n",
       "      <td>age</td>\n",
       "      <td>8.081294e+03</td>\n",
       "    </tr>\n",
       "    <tr>\n",
       "      <th>7</th>\n",
       "      <td>hours.per.week</td>\n",
       "      <td>5.628406e+03</td>\n",
       "    </tr>\n",
       "    <tr>\n",
       "      <th>2</th>\n",
       "      <td>education.num</td>\n",
       "      <td>2.229613e+03</td>\n",
       "    </tr>\n",
       "    <tr>\n",
       "      <th>12</th>\n",
       "      <td>sex_Male</td>\n",
       "      <td>4.659813e+02</td>\n",
       "    </tr>\n",
       "    <tr>\n",
       "      <th>4</th>\n",
       "      <td>occupation</td>\n",
       "      <td>3.428501e+02</td>\n",
       "    </tr>\n",
       "    <tr>\n",
       "      <th>9</th>\n",
       "      <td>race_Black</td>\n",
       "      <td>2.206316e+02</td>\n",
       "    </tr>\n",
       "    <tr>\n",
       "      <th>3</th>\n",
       "      <td>marital.status</td>\n",
       "      <td>2.095631e+02</td>\n",
       "    </tr>\n",
       "    <tr>\n",
       "      <th>1</th>\n",
       "      <td>workclass</td>\n",
       "      <td>7.062023e+01</td>\n",
       "    </tr>\n",
       "    <tr>\n",
       "      <th>10</th>\n",
       "      <td>race_Other</td>\n",
       "      <td>3.239451e+01</td>\n",
       "    </tr>\n",
       "    <tr>\n",
       "      <th>11</th>\n",
       "      <td>race_White</td>\n",
       "      <td>3.156114e+01</td>\n",
       "    </tr>\n",
       "    <tr>\n",
       "      <th>8</th>\n",
       "      <td>race_Asian-Pac-Islander</td>\n",
       "      <td>4.438882e+00</td>\n",
       "    </tr>\n",
       "  </tbody>\n",
       "</table>\n",
       "</div>"
      ],
      "text/plain": [
       "                   Features         Score\n",
       "5              capital.gain  7.685745e+07\n",
       "6              capital.loss  1.304208e+06\n",
       "0                       age  8.081294e+03\n",
       "7            hours.per.week  5.628406e+03\n",
       "2             education.num  2.229613e+03\n",
       "12                 sex_Male  4.659813e+02\n",
       "4                occupation  3.428501e+02\n",
       "9                race_Black  2.206316e+02\n",
       "3            marital.status  2.095631e+02\n",
       "1                 workclass  7.062023e+01\n",
       "10               race_Other  3.239451e+01\n",
       "11               race_White  3.156114e+01\n",
       "8   race_Asian-Pac-Islander  4.438882e+00"
      ]
     },
     "execution_count": 41,
     "metadata": {},
     "output_type": "execute_result"
    }
   ],
   "source": [
    "#Instantiation SelectKBest\n",
    "model = SelectKBest(score_func=chi2, k=13)\n",
    "#Fitting the model\n",
    "fit = model.fit(X.values,y.values)\n",
    "#Storing scores and columns\n",
    "dfscores = pd.DataFrame(fit.scores_)\n",
    "dfcolumns = pd.DataFrame(X.columns)\n",
    "#Creating a dataframe to store scores by columns\n",
    "featureScores = pd.concat([dfcolumns,dfscores],axis=1)\n",
    "featureScores.columns = ['Features','Score']\n",
    "#printing the columns in descending order of their score\n",
    "featureScores.nlargest(20,'Score')['Features']\n"
   ]
  },
  {
   "cell_type": "markdown",
   "id": "2fb94e5d",
   "metadata": {},
   "source": [
    "We have our features in the descending order of their scores - I will use the first 9 ones for certain models when creating them."
   ]
  },
  {
   "cell_type": "code",
   "execution_count": 96,
   "id": "e7bc1ede",
   "metadata": {},
   "outputs": [],
   "source": [
    "#Getting the first 9 more important columns in a list\n",
    "col1 = featureScores.nlargest(20,'Score').iloc[:9, :-1].values"
   ]
  },
  {
   "cell_type": "markdown",
   "id": "5457d1f2",
   "metadata": {},
   "source": [
    "## ExtraTreesClassifier"
   ]
  },
  {
   "cell_type": "code",
   "execution_count": 45,
   "id": "8c9f2340",
   "metadata": {},
   "outputs": [
    {
     "data": {
      "image/png": "[encoded data removed]",
      "text/plain": [
       "<Figure size 432x288 with 1 Axes>"
      ]
     },
     "metadata": {
      "needs_background": "light"
     },
     "output_type": "display_data"
    }
   ],
   "source": [
    "#Instantiating ExtraTreesClassifier\n",
    "model = ExtraTreesClassifier()\n",
    "#Fitting the model\n",
    "model.fit(X,y)\n",
    "#Plotting the results\n",
    "features = pd.Series(model.feature_importances_, index=X.columns)\n",
    "features.nlargest(15).plot(kind='barh')\n",
    "plt.show()"
   ]
  },
  {
   "cell_type": "markdown",
   "id": "1d53150a",
   "metadata": {},
   "source": [
    "We can see that now we have some different features considered the best, which was expected to. The ExtraTreesClassifier is best to be used with Tree Based Classifiers, which I will do when creating the model. I will also use the first 9 (from the bottom up)"
   ]
  },
  {
   "cell_type": "code",
   "execution_count": 107,
   "id": "ed243f72",
   "metadata": {},
   "outputs": [],
   "source": [
    "#Getting the first 9 more important columns in a list\n",
    "col2 = ['age', 'workclass', 'education.num', 'marital.status', 'occupation','capital.gain','capital.loss','hours.per.week','sex_Male']"
   ]
  },
  {
   "cell_type": "markdown",
   "id": "a669dcfe",
   "metadata": {},
   "source": [
    "## PointBiserialCorrSelector"
   ]
  },
  {
   "cell_type": "code",
   "execution_count": 64,
   "id": "defca902",
   "metadata": {},
   "outputs": [],
   "source": [
    "#Instantiating the model\n",
    "pbs = PointBiserialCorrSelector()\n",
    "#Saving column names\n",
    "col = pbs.select( df, target='income' )"
   ]
  },
  {
   "cell_type": "code",
   "execution_count": 109,
   "id": "84603c15",
   "metadata": {},
   "outputs": [
    {
     "data": {
      "text/plain": [
       "['education.num',\n",
       " 'marital.status',\n",
       " 'occupation',\n",
       " 'age',\n",
       " 'capital.gain',\n",
       " 'hours.per.week',\n",
       " 'sex_Male']"
      ]
     },
     "execution_count": 109,
     "metadata": {},
     "output_type": "execute_result"
    }
   ],
   "source": [
    "col"
   ]
  },
  {
   "cell_type": "code",
   "execution_count": 108,
   "id": "f00578bf",
   "metadata": {},
   "outputs": [
    {
     "data": {
      "text/plain": [
       "array([0.238, 0.161, 0.131, 0.13 , 0.127, 0.098, 0.038, 0.033, 0.032,\n",
       "       0.005])"
      ]
     },
     "execution_count": 108,
     "metadata": {},
     "output_type": "execute_result"
    }
   ],
   "source": [
    "#Getting the first 7 more important columns in a list\n",
    "col3 = col"
   ]
  },
  {
   "cell_type": "markdown",
   "id": "240cfcb2",
   "metadata": {},
   "source": [
    "We can see that PointBiserialCorrSelector from Kydavra selected the 6 columns with highest importance that were also found in ExtraTreesClassifier in the first places + sex_Male column, that, from my point of view is also very important and the model did well choosing it."
   ]
  },
  {
   "cell_type": "markdown",
   "id": "611ceff9",
   "metadata": {},
   "source": [
    "We'll train some models in the next notebook on each of the columns selecten to see the accuracy on each of them"
   ]
  }
 ],
 "metadata": {
  "kernelspec": {
   "display_name": "Python 3 (ipykernel)",
   "language": "python",
   "name": "python3"
  },
  "language_info": {
   "codemirror_mode": {
    "name": "ipython",
    "version": 3
   },
   "file_extension": ".py",
   "mimetype": "text/x-python",
   "name": "python",
   "nbconvert_exporter": "python",
   "pygments_lexer": "ipython3",
   "version": "3.7.7"
  }
 },
 "nbformat": 4,
 "nbformat_minor": 5
}
