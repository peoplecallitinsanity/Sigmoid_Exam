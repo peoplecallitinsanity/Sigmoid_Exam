{
 "cells": [
  {
   "cell_type": "markdown",
   "id": "b0bff258",
   "metadata": {},
   "source": [
    "# Data cleaning"
   ]
  },
  {
   "cell_type": "markdown",
   "id": "e22b64ca",
   "metadata": {},
   "source": [
    "Because the dataset has mainly categorical values I'll start with cleaning it, and then I'll continue with analyzing it."
   ]
  },
  {
   "cell_type": "code",
   "execution_count": 1,
   "id": "4952bca2",
   "metadata": {},
   "outputs": [],
   "source": [
    "#Importing pandas\n",
    "import pandas as pd"
   ]
  },
  {
   "cell_type": "code",
   "execution_count": 2,
   "id": "887ef4e7",
   "metadata": {},
   "outputs": [],
   "source": [
    "df = pd.read_csv('data.csv')"
   ]
  },
  {
   "cell_type": "code",
   "execution_count": 3,
   "id": "b009f513",
   "metadata": {
    "scrolled": true
   },
   "outputs": [
    {
     "data": {
      "text/html": [
       "<div>\n",
       "<style scoped>\n",
       "    .dataframe tbody tr th:only-of-type {\n",
       "        vertical-align: middle;\n",
       "    }\n",
       "\n",
       "    .dataframe tbody tr th {\n",
       "        vertical-align: top;\n",
       "    }\n",
       "\n",
       "    .dataframe thead th {\n",
       "        text-align: right;\n",
       "    }\n",
       "</style>\n",
       "<table border=\"1\" class=\"dataframe\">\n",
       "  <thead>\n",
       "    <tr style=\"text-align: right;\">\n",
       "      <th></th>\n",
       "      <th>age</th>\n",
       "      <th>workclass</th>\n",
       "      <th>fnlwgt</th>\n",
       "      <th>education</th>\n",
       "      <th>education.num</th>\n",
       "      <th>marital.status</th>\n",
       "      <th>occupation</th>\n",
       "      <th>relationship</th>\n",
       "      <th>race</th>\n",
       "      <th>sex</th>\n",
       "      <th>capital.gain</th>\n",
       "      <th>capital.loss</th>\n",
       "      <th>hours.per.week</th>\n",
       "      <th>native.country</th>\n",
       "      <th>income</th>\n",
       "    </tr>\n",
       "  </thead>\n",
       "  <tbody>\n",
       "    <tr>\n",
       "      <th>0</th>\n",
       "      <td>90</td>\n",
       "      <td>?</td>\n",
       "      <td>77053</td>\n",
       "      <td>HS-grad</td>\n",
       "      <td>9</td>\n",
       "      <td>Widowed</td>\n",
       "      <td>?</td>\n",
       "      <td>Not-in-family</td>\n",
       "      <td>White</td>\n",
       "      <td>Female</td>\n",
       "      <td>0</td>\n",
       "      <td>4356</td>\n",
       "      <td>40</td>\n",
       "      <td>United-States</td>\n",
       "      <td>&lt;=50K</td>\n",
       "    </tr>\n",
       "    <tr>\n",
       "      <th>1</th>\n",
       "      <td>82</td>\n",
       "      <td>Private</td>\n",
       "      <td>132870</td>\n",
       "      <td>HS-grad</td>\n",
       "      <td>9</td>\n",
       "      <td>Widowed</td>\n",
       "      <td>Exec-managerial</td>\n",
       "      <td>Not-in-family</td>\n",
       "      <td>White</td>\n",
       "      <td>Female</td>\n",
       "      <td>0</td>\n",
       "      <td>4356</td>\n",
       "      <td>18</td>\n",
       "      <td>United-States</td>\n",
       "      <td>&lt;=50K</td>\n",
       "    </tr>\n",
       "    <tr>\n",
       "      <th>2</th>\n",
       "      <td>66</td>\n",
       "      <td>?</td>\n",
       "      <td>186061</td>\n",
       "      <td>Some-college</td>\n",
       "      <td>10</td>\n",
       "      <td>Widowed</td>\n",
       "      <td>?</td>\n",
       "      <td>Unmarried</td>\n",
       "      <td>Black</td>\n",
       "      <td>Female</td>\n",
       "      <td>0</td>\n",
       "      <td>4356</td>\n",
       "      <td>40</td>\n",
       "      <td>United-States</td>\n",
       "      <td>&lt;=50K</td>\n",
       "    </tr>\n",
       "    <tr>\n",
       "      <th>3</th>\n",
       "      <td>54</td>\n",
       "      <td>Private</td>\n",
       "      <td>140359</td>\n",
       "      <td>7th-8th</td>\n",
       "      <td>4</td>\n",
       "      <td>Divorced</td>\n",
       "      <td>Machine-op-inspct</td>\n",
       "      <td>Unmarried</td>\n",
       "      <td>White</td>\n",
       "      <td>Female</td>\n",
       "      <td>0</td>\n",
       "      <td>3900</td>\n",
       "      <td>40</td>\n",
       "      <td>United-States</td>\n",
       "      <td>&lt;=50K</td>\n",
       "    </tr>\n",
       "    <tr>\n",
       "      <th>4</th>\n",
       "      <td>41</td>\n",
       "      <td>Private</td>\n",
       "      <td>264663</td>\n",
       "      <td>Some-college</td>\n",
       "      <td>10</td>\n",
       "      <td>Separated</td>\n",
       "      <td>Prof-specialty</td>\n",
       "      <td>Own-child</td>\n",
       "      <td>White</td>\n",
       "      <td>Female</td>\n",
       "      <td>0</td>\n",
       "      <td>3900</td>\n",
       "      <td>40</td>\n",
       "      <td>United-States</td>\n",
       "      <td>&lt;=50K</td>\n",
       "    </tr>\n",
       "    <tr>\n",
       "      <th>...</th>\n",
       "      <td>...</td>\n",
       "      <td>...</td>\n",
       "      <td>...</td>\n",
       "      <td>...</td>\n",
       "      <td>...</td>\n",
       "      <td>...</td>\n",
       "      <td>...</td>\n",
       "      <td>...</td>\n",
       "      <td>...</td>\n",
       "      <td>...</td>\n",
       "      <td>...</td>\n",
       "      <td>...</td>\n",
       "      <td>...</td>\n",
       "      <td>...</td>\n",
       "      <td>...</td>\n",
       "    </tr>\n",
       "    <tr>\n",
       "      <th>32556</th>\n",
       "      <td>22</td>\n",
       "      <td>Private</td>\n",
       "      <td>310152</td>\n",
       "      <td>Some-college</td>\n",
       "      <td>10</td>\n",
       "      <td>Never-married</td>\n",
       "      <td>Protective-serv</td>\n",
       "      <td>Not-in-family</td>\n",
       "      <td>White</td>\n",
       "      <td>Male</td>\n",
       "      <td>0</td>\n",
       "      <td>0</td>\n",
       "      <td>40</td>\n",
       "      <td>United-States</td>\n",
       "      <td>&lt;=50K</td>\n",
       "    </tr>\n",
       "    <tr>\n",
       "      <th>32557</th>\n",
       "      <td>27</td>\n",
       "      <td>Private</td>\n",
       "      <td>257302</td>\n",
       "      <td>Assoc-acdm</td>\n",
       "      <td>12</td>\n",
       "      <td>Married-civ-spouse</td>\n",
       "      <td>Tech-support</td>\n",
       "      <td>Wife</td>\n",
       "      <td>White</td>\n",
       "      <td>Female</td>\n",
       "      <td>0</td>\n",
       "      <td>0</td>\n",
       "      <td>38</td>\n",
       "      <td>United-States</td>\n",
       "      <td>&lt;=50K</td>\n",
       "    </tr>\n",
       "    <tr>\n",
       "      <th>32558</th>\n",
       "      <td>40</td>\n",
       "      <td>Private</td>\n",
       "      <td>154374</td>\n",
       "      <td>HS-grad</td>\n",
       "      <td>9</td>\n",
       "      <td>Married-civ-spouse</td>\n",
       "      <td>Machine-op-inspct</td>\n",
       "      <td>Husband</td>\n",
       "      <td>White</td>\n",
       "      <td>Male</td>\n",
       "      <td>0</td>\n",
       "      <td>0</td>\n",
       "      <td>40</td>\n",
       "      <td>United-States</td>\n",
       "      <td>&gt;50K</td>\n",
       "    </tr>\n",
       "    <tr>\n",
       "      <th>32559</th>\n",
       "      <td>58</td>\n",
       "      <td>Private</td>\n",
       "      <td>151910</td>\n",
       "      <td>HS-grad</td>\n",
       "      <td>9</td>\n",
       "      <td>Widowed</td>\n",
       "      <td>Adm-clerical</td>\n",
       "      <td>Unmarried</td>\n",
       "      <td>White</td>\n",
       "      <td>Female</td>\n",
       "      <td>0</td>\n",
       "      <td>0</td>\n",
       "      <td>40</td>\n",
       "      <td>United-States</td>\n",
       "      <td>&lt;=50K</td>\n",
       "    </tr>\n",
       "    <tr>\n",
       "      <th>32560</th>\n",
       "      <td>22</td>\n",
       "      <td>Private</td>\n",
       "      <td>201490</td>\n",
       "      <td>HS-grad</td>\n",
       "      <td>9</td>\n",
       "      <td>Never-married</td>\n",
       "      <td>Adm-clerical</td>\n",
       "      <td>Own-child</td>\n",
       "      <td>White</td>\n",
       "      <td>Male</td>\n",
       "      <td>0</td>\n",
       "      <td>0</td>\n",
       "      <td>20</td>\n",
       "      <td>United-States</td>\n",
       "      <td>&lt;=50K</td>\n",
       "    </tr>\n",
       "  </tbody>\n",
       "</table>\n",
       "<p>32561 rows × 15 columns</p>\n",
       "</div>"
      ],
      "text/plain": [
       "       age workclass  fnlwgt     education  education.num      marital.status  \\\n",
       "0       90         ?   77053       HS-grad              9             Widowed   \n",
       "1       82   Private  132870       HS-grad              9             Widowed   \n",
       "2       66         ?  186061  Some-college             10             Widowed   \n",
       "3       54   Private  140359       7th-8th              4            Divorced   \n",
       "4       41   Private  264663  Some-college             10           Separated   \n",
       "...    ...       ...     ...           ...            ...                 ...   \n",
       "32556   22   Private  310152  Some-college             10       Never-married   \n",
       "32557   27   Private  257302    Assoc-acdm             12  Married-civ-spouse   \n",
       "32558   40   Private  154374       HS-grad              9  Married-civ-spouse   \n",
       "32559   58   Private  151910       HS-grad              9             Widowed   \n",
       "32560   22   Private  201490       HS-grad              9       Never-married   \n",
       "\n",
       "              occupation   relationship   race     sex  capital.gain  \\\n",
       "0                      ?  Not-in-family  White  Female             0   \n",
       "1        Exec-managerial  Not-in-family  White  Female             0   \n",
       "2                      ?      Unmarried  Black  Female             0   \n",
       "3      Machine-op-inspct      Unmarried  White  Female             0   \n",
       "4         Prof-specialty      Own-child  White  Female             0   \n",
       "...                  ...            ...    ...     ...           ...   \n",
       "32556    Protective-serv  Not-in-family  White    Male             0   \n",
       "32557       Tech-support           Wife  White  Female             0   \n",
       "32558  Machine-op-inspct        Husband  White    Male             0   \n",
       "32559       Adm-clerical      Unmarried  White  Female             0   \n",
       "32560       Adm-clerical      Own-child  White    Male             0   \n",
       "\n",
       "       capital.loss  hours.per.week native.country income  \n",
       "0              4356              40  United-States  <=50K  \n",
       "1              4356              18  United-States  <=50K  \n",
       "2              4356              40  United-States  <=50K  \n",
       "3              3900              40  United-States  <=50K  \n",
       "4              3900              40  United-States  <=50K  \n",
       "...             ...             ...            ...    ...  \n",
       "32556             0              40  United-States  <=50K  \n",
       "32557             0              38  United-States  <=50K  \n",
       "32558             0              40  United-States   >50K  \n",
       "32559             0              40  United-States  <=50K  \n",
       "32560             0              20  United-States  <=50K  \n",
       "\n",
       "[32561 rows x 15 columns]"
      ]
     },
     "execution_count": 3,
     "metadata": {},
     "output_type": "execute_result"
    }
   ],
   "source": [
    "df"
   ]
  },
  {
   "cell_type": "code",
   "execution_count": 4,
   "id": "d791ff97",
   "metadata": {},
   "outputs": [
    {
     "name": "stdout",
     "output_type": "stream",
     "text": [
      "<class 'pandas.core.frame.DataFrame'>\n",
      "RangeIndex: 32561 entries, 0 to 32560\n",
      "Data columns (total 15 columns):\n",
      " #   Column          Non-Null Count  Dtype \n",
      "---  ------          --------------  ----- \n",
      " 0   age             32561 non-null  int64 \n",
      " 1   workclass       32561 non-null  object\n",
      " 2   fnlwgt          32561 non-null  int64 \n",
      " 3   education       32561 non-null  object\n",
      " 4   education.num   32561 non-null  int64 \n",
      " 5   marital.status  32561 non-null  object\n",
      " 6   occupation      32561 non-null  object\n",
      " 7   relationship    32561 non-null  object\n",
      " 8   race            32561 non-null  object\n",
      " 9   sex             32561 non-null  object\n",
      " 10  capital.gain    32561 non-null  int64 \n",
      " 11  capital.loss    32561 non-null  int64 \n",
      " 12  hours.per.week  32561 non-null  int64 \n",
      " 13  native.country  32561 non-null  object\n",
      " 14  income          32561 non-null  object\n",
      "dtypes: int64(6), object(9)\n",
      "memory usage: 3.7+ MB\n"
     ]
    }
   ],
   "source": [
    "df.info()"
   ]
  },
  {
   "cell_type": "markdown",
   "id": "285a1754",
   "metadata": {},
   "source": [
    "As we can see, we do not have NAN values directly into our dataset, so we can affirme that they are in another form"
   ]
  },
  {
   "cell_type": "markdown",
   "id": "97dca666",
   "metadata": {},
   "source": [
    "Before analysing correlation between features, it would be better to clean the data"
   ]
  },
  {
   "cell_type": "markdown",
   "id": "f4413090",
   "metadata": {},
   "source": [
    "I will use value_counts function to analyze every column in particular"
   ]
  },
  {
   "cell_type": "markdown",
   "id": "b69fe2fa",
   "metadata": {},
   "source": [
    "The reason I didn't use a function is because I prefered to analyze directly the columns by themselves with value_counts, that will help me choose better the model which I will apply to the column"
   ]
  },
  {
   "cell_type": "code",
   "execution_count": 5,
   "id": "4cc6c501",
   "metadata": {},
   "outputs": [
    {
     "data": {
      "text/plain": [
       "Private             22696\n",
       "Self-emp-not-inc     2541\n",
       "Local-gov            2093\n",
       "?                    1836\n",
       "State-gov            1298\n",
       "Self-emp-inc         1116\n",
       "Federal-gov           960\n",
       "Without-pay            14\n",
       "Never-worked            7\n",
       "Name: workclass, dtype: int64"
      ]
     },
     "execution_count": 5,
     "metadata": {},
     "output_type": "execute_result"
    }
   ],
   "source": [
    "#Analyzing 'workclass' column \n",
    "df['workclass'].value_counts()"
   ]
  },
  {
   "cell_type": "code",
   "execution_count": 6,
   "id": "6e5c9287",
   "metadata": {
    "scrolled": true
   },
   "outputs": [
    {
     "data": {
      "text/plain": [
       "Prof-specialty       4140\n",
       "Craft-repair         4099\n",
       "Exec-managerial      4066\n",
       "Adm-clerical         3770\n",
       "Sales                3650\n",
       "Other-service        3295\n",
       "Machine-op-inspct    2002\n",
       "?                    1843\n",
       "Transport-moving     1597\n",
       "Handlers-cleaners    1370\n",
       "Farming-fishing       994\n",
       "Tech-support          928\n",
       "Protective-serv       649\n",
       "Priv-house-serv       149\n",
       "Armed-Forces            9\n",
       "Name: occupation, dtype: int64"
      ]
     },
     "execution_count": 6,
     "metadata": {},
     "output_type": "execute_result"
    }
   ],
   "source": [
    "#Analyzing 'occupation' column \n",
    "df['occupation'].value_counts()"
   ]
  },
  {
   "cell_type": "markdown",
   "id": "41933d57",
   "metadata": {},
   "source": [
    "We have only 2 columns with NAN values marked as '?'\n",
    "We won't remove them, even though in these 2 columns most of the rows (95%) have a NAN value in both of the columns (workclass and occupation), especially because that would include excluding some minority values (as Never-worked in 'workclass' and Armed-Forces in 'occupation', and also reducing some others).\n",
    "So we will impute them as a separate value because they are a relatively big part of our dataset (also including finalweight), and we'll give them a separate frequancy imputation to store that information.\n",
    "\n",
    "Also as we have different value counts for each class, its safe to impute them with this model"
   ]
  },
  {
   "cell_type": "code",
   "execution_count": 7,
   "id": "4a5ffbe7",
   "metadata": {
    "scrolled": true
   },
   "outputs": [],
   "source": [
    "#We will replace the categorical values in numerical values so that we will be able to impute them with Frequency Imp later\n",
    "df['workclass'] = df['workclass'].replace(df['workclass'].unique().tolist(), [*range(0, 9, 1)])"
   ]
  },
  {
   "cell_type": "code",
   "execution_count": 8,
   "id": "f749d7b7",
   "metadata": {},
   "outputs": [],
   "source": [
    "#Replacing with num values the 'occupation' column\n",
    "df['occupation'] = df['occupation'].replace(df['occupation'].unique().tolist(),[*range(0, 15, 1)] )"
   ]
  },
  {
   "cell_type": "code",
   "execution_count": 9,
   "id": "f5b54707",
   "metadata": {},
   "outputs": [
    {
     "data": {
      "text/plain": [
       "HS-grad         10501\n",
       "Some-college     7291\n",
       "Bachelors        5355\n",
       "Masters          1723\n",
       "Assoc-voc        1382\n",
       "11th             1175\n",
       "Assoc-acdm       1067\n",
       "10th              933\n",
       "7th-8th           646\n",
       "Prof-school       576\n",
       "9th               514\n",
       "12th              433\n",
       "Doctorate         413\n",
       "5th-6th           333\n",
       "1st-4th           168\n",
       "Preschool          51\n",
       "Name: education, dtype: int64"
      ]
     },
     "execution_count": 9,
     "metadata": {},
     "output_type": "execute_result"
    }
   ],
   "source": [
    "#Analyzing 'education' column \n",
    "df['education'].value_counts()"
   ]
  },
  {
   "cell_type": "code",
   "execution_count": 10,
   "id": "13e43e07",
   "metadata": {},
   "outputs": [],
   "source": [
    "#Replacing with values the 'education' column\n",
    "df['education'] = df['education'].replace(df['education'].unique().tolist(),[*range(0, 16, 1)] )"
   ]
  },
  {
   "cell_type": "code",
   "execution_count": 11,
   "id": "8d6080e9",
   "metadata": {},
   "outputs": [
    {
     "data": {
      "text/plain": [
       "Married-civ-spouse       14976\n",
       "Never-married            10683\n",
       "Divorced                  4443\n",
       "Separated                 1025\n",
       "Widowed                    993\n",
       "Married-spouse-absent      418\n",
       "Married-AF-spouse           23\n",
       "Name: marital.status, dtype: int64"
      ]
     },
     "execution_count": 11,
     "metadata": {},
     "output_type": "execute_result"
    }
   ],
   "source": [
    "#Analyzing 'marital.status' column \n",
    "df['marital.status'].value_counts()"
   ]
  },
  {
   "cell_type": "code",
   "execution_count": 12,
   "id": "e5d72922",
   "metadata": {},
   "outputs": [],
   "source": [
    "#Replacing with numerical values the 'marital.status' column\n",
    "df['marital.status'] = df['marital.status'].replace(df['marital.status'].unique().tolist(),[*range(0, 7, 1)] )"
   ]
  },
  {
   "cell_type": "code",
   "execution_count": 13,
   "id": "4b1ecc59",
   "metadata": {},
   "outputs": [
    {
     "data": {
      "text/plain": [
       "Husband           13193\n",
       "Not-in-family      8305\n",
       "Own-child          5068\n",
       "Unmarried          3446\n",
       "Wife               1568\n",
       "Other-relative      981\n",
       "Name: relationship, dtype: int64"
      ]
     },
     "execution_count": 13,
     "metadata": {},
     "output_type": "execute_result"
    }
   ],
   "source": [
    "#Analyzing 'relationship' column \n",
    "df['relationship'].value_counts()"
   ]
  },
  {
   "cell_type": "code",
   "execution_count": 14,
   "id": "d589e53d",
   "metadata": {},
   "outputs": [],
   "source": [
    "#Replacing with num values the 'relationship' column\n",
    "df['relationship'] = df['relationship'].replace(df['relationship'].unique().tolist(),[*range(0, 6, 1)] )"
   ]
  },
  {
   "cell_type": "code",
   "execution_count": 15,
   "id": "8689883a",
   "metadata": {},
   "outputs": [
    {
     "data": {
      "text/plain": [
       "White                 27816\n",
       "Black                  3124\n",
       "Asian-Pac-Islander     1039\n",
       "Amer-Indian-Eskimo      311\n",
       "Other                   271\n",
       "Name: race, dtype: int64"
      ]
     },
     "execution_count": 15,
     "metadata": {},
     "output_type": "execute_result"
    }
   ],
   "source": [
    "#Analyzing 'race' column \n",
    "df['race'].value_counts()"
   ]
  },
  {
   "cell_type": "code",
   "execution_count": 16,
   "id": "c52da5fd",
   "metadata": {},
   "outputs": [],
   "source": [
    "#Replacing with num values the 'race' column\n",
    "df['race'] = df['race'].replace(df['race'].unique().tolist(),[*range(0, 5, 1)] )"
   ]
  },
  {
   "cell_type": "code",
   "execution_count": 17,
   "id": "4712b0d5",
   "metadata": {},
   "outputs": [
    {
     "data": {
      "text/plain": [
       "Male      21790\n",
       "Female    10771\n",
       "Name: sex, dtype: int64"
      ]
     },
     "execution_count": 17,
     "metadata": {},
     "output_type": "execute_result"
    }
   ],
   "source": [
    "#Analyzing 'sex' column \n",
    "df['sex'].value_counts()"
   ]
  },
  {
   "cell_type": "code",
   "execution_count": 18,
   "id": "cfe0d3a7",
   "metadata": {},
   "outputs": [],
   "source": [
    "#Creating a dummy variable for the 'sex' column\n",
    "df = pd.get_dummies(df, columns=['sex'], drop_first = True)"
   ]
  },
  {
   "cell_type": "code",
   "execution_count": 19,
   "id": "d1304578",
   "metadata": {},
   "outputs": [
    {
     "data": {
      "text/plain": [
       "United-States                 29170\n",
       "Mexico                          643\n",
       "?                               583\n",
       "Philippines                     198\n",
       "Germany                         137\n",
       "Canada                          121\n",
       "Puerto-Rico                     114\n",
       "El-Salvador                     106\n",
       "India                           100\n",
       "Cuba                             95\n",
       "England                          90\n",
       "Jamaica                          81\n",
       "South                            80\n",
       "China                            75\n",
       "Italy                            73\n",
       "Dominican-Republic               70\n",
       "Vietnam                          67\n",
       "Guatemala                        64\n",
       "Japan                            62\n",
       "Poland                           60\n",
       "Columbia                         59\n",
       "Taiwan                           51\n",
       "Haiti                            44\n",
       "Iran                             43\n",
       "Portugal                         37\n",
       "Nicaragua                        34\n",
       "Peru                             31\n",
       "Greece                           29\n",
       "France                           29\n",
       "Ecuador                          28\n",
       "Ireland                          24\n",
       "Hong                             20\n",
       "Cambodia                         19\n",
       "Trinadad&Tobago                  19\n",
       "Laos                             18\n",
       "Thailand                         18\n",
       "Yugoslavia                       16\n",
       "Outlying-US(Guam-USVI-etc)       14\n",
       "Hungary                          13\n",
       "Honduras                         13\n",
       "Scotland                         12\n",
       "Holand-Netherlands                1\n",
       "Name: native.country, dtype: int64"
      ]
     },
     "execution_count": 19,
     "metadata": {},
     "output_type": "execute_result"
    }
   ],
   "source": [
    "#Analyzing 'native.country' column \n",
    "df['native.country'].value_counts()"
   ]
  },
  {
   "cell_type": "code",
   "execution_count": 20,
   "id": "e4ccf131",
   "metadata": {},
   "outputs": [],
   "source": [
    "#Replacing with num values the 'native.country' column\n",
    "df['native.country'] = df['native.country'].replace(df['native.country'].unique().tolist(),[*range(0, 42, 1)] )"
   ]
  },
  {
   "cell_type": "markdown",
   "id": "8fb69689",
   "metadata": {},
   "source": [
    "We can see that for 'native country' column we have some countries that have the same number of counts, so for this column \n",
    "we'll use target imputation"
   ]
  },
  {
   "cell_type": "code",
   "execution_count": 21,
   "id": "3415a63f",
   "metadata": {},
   "outputs": [
    {
     "data": {
      "text/plain": [
       "<=50K    24720\n",
       ">50K      7841\n",
       "Name: income, dtype: int64"
      ]
     },
     "execution_count": 21,
     "metadata": {},
     "output_type": "execute_result"
    }
   ],
   "source": [
    "#Analyzing TARGET column \n",
    "df['income'].value_counts()"
   ]
  },
  {
   "cell_type": "markdown",
   "id": "87df6406",
   "metadata": {},
   "source": [
    "We'll understand that as having a high income (>50K) and low income (<=50K)"
   ]
  },
  {
   "cell_type": "code",
   "execution_count": 22,
   "id": "13f2d270",
   "metadata": {},
   "outputs": [],
   "source": [
    "#Creating a dummy variable for the 'income' column\n",
    "df = pd.get_dummies(df, columns=['income'], drop_first = True)"
   ]
  },
  {
   "cell_type": "code",
   "execution_count": 23,
   "id": "8ff8ed99",
   "metadata": {},
   "outputs": [],
   "source": [
    "#Changing data types to float for the Transformers\n",
    "df = df.astype(float)"
   ]
  },
  {
   "cell_type": "code",
   "execution_count": 24,
   "id": "9cfc60b0",
   "metadata": {},
   "outputs": [],
   "source": [
    "#Importing the transformer from Imperio library and instantiating the model\n",
    "from imperio import FrequencyImputationTransformer\n",
    "freq = FrequencyImputationTransformer()"
   ]
  },
  {
   "cell_type": "code",
   "execution_count": 25,
   "id": "8538bbda",
   "metadata": {},
   "outputs": [],
   "source": [
    "#Applying frequency imputation to our dataset\n",
    "new_df = freq.apply(df, target = 'income_>50K', columns = ['workclass', 'education', 'marital.status', 'occupation', 'relationship', 'race'] )"
   ]
  },
  {
   "cell_type": "code",
   "execution_count": 26,
   "id": "3b9bdae3",
   "metadata": {},
   "outputs": [],
   "source": [
    "#Importing Target Imputation \n",
    "from imperio import TargetImputationTransformer\n",
    "target = TargetImputationTransformer()"
   ]
  },
  {
   "cell_type": "code",
   "execution_count": 27,
   "id": "3d87048e",
   "metadata": {},
   "outputs": [],
   "source": [
    "#Applying target imputation to 'native country' column\n",
    "new_df = target.apply(new_df, target = 'income_>50K', columns = ['native.country'] )"
   ]
  },
  {
   "cell_type": "code",
   "execution_count": 28,
   "id": "fd5c4961",
   "metadata": {},
   "outputs": [
    {
     "data": {
      "text/html": [
       "<div>\n",
       "<style scoped>\n",
       "    .dataframe tbody tr th:only-of-type {\n",
       "        vertical-align: middle;\n",
       "    }\n",
       "\n",
       "    .dataframe tbody tr th {\n",
       "        vertical-align: top;\n",
       "    }\n",
       "\n",
       "    .dataframe thead th {\n",
       "        text-align: right;\n",
       "    }\n",
       "</style>\n",
       "<table border=\"1\" class=\"dataframe\">\n",
       "  <thead>\n",
       "    <tr style=\"text-align: right;\">\n",
       "      <th></th>\n",
       "      <th>age</th>\n",
       "      <th>workclass</th>\n",
       "      <th>fnlwgt</th>\n",
       "      <th>education</th>\n",
       "      <th>education.num</th>\n",
       "      <th>marital.status</th>\n",
       "      <th>occupation</th>\n",
       "      <th>relationship</th>\n",
       "      <th>race</th>\n",
       "      <th>capital.gain</th>\n",
       "      <th>capital.loss</th>\n",
       "      <th>hours.per.week</th>\n",
       "      <th>native.country</th>\n",
       "      <th>sex_Male</th>\n",
       "      <th>income_&gt;50K</th>\n",
       "    </tr>\n",
       "  </thead>\n",
       "  <tbody>\n",
       "    <tr>\n",
       "      <th>0</th>\n",
       "      <td>90.0</td>\n",
       "      <td>0.056386</td>\n",
       "      <td>77053.0</td>\n",
       "      <td>0.322502</td>\n",
       "      <td>9.0</td>\n",
       "      <td>0.030497</td>\n",
       "      <td>0.056601</td>\n",
       "      <td>0.255060</td>\n",
       "      <td>0.854274</td>\n",
       "      <td>0.0</td>\n",
       "      <td>4356.0</td>\n",
       "      <td>40.0</td>\n",
       "      <td>0.245835</td>\n",
       "      <td>0.0</td>\n",
       "      <td>0.0</td>\n",
       "    </tr>\n",
       "    <tr>\n",
       "      <th>1</th>\n",
       "      <td>82.0</td>\n",
       "      <td>0.697030</td>\n",
       "      <td>132870.0</td>\n",
       "      <td>0.322502</td>\n",
       "      <td>9.0</td>\n",
       "      <td>0.030497</td>\n",
       "      <td>0.124873</td>\n",
       "      <td>0.255060</td>\n",
       "      <td>0.854274</td>\n",
       "      <td>0.0</td>\n",
       "      <td>4356.0</td>\n",
       "      <td>18.0</td>\n",
       "      <td>0.245835</td>\n",
       "      <td>0.0</td>\n",
       "      <td>0.0</td>\n",
       "    </tr>\n",
       "    <tr>\n",
       "      <th>2</th>\n",
       "      <td>66.0</td>\n",
       "      <td>0.056386</td>\n",
       "      <td>186061.0</td>\n",
       "      <td>0.223918</td>\n",
       "      <td>10.0</td>\n",
       "      <td>0.030497</td>\n",
       "      <td>0.056601</td>\n",
       "      <td>0.105832</td>\n",
       "      <td>0.095943</td>\n",
       "      <td>0.0</td>\n",
       "      <td>4356.0</td>\n",
       "      <td>40.0</td>\n",
       "      <td>0.245835</td>\n",
       "      <td>0.0</td>\n",
       "      <td>0.0</td>\n",
       "    </tr>\n",
       "    <tr>\n",
       "      <th>3</th>\n",
       "      <td>54.0</td>\n",
       "      <td>0.697030</td>\n",
       "      <td>140359.0</td>\n",
       "      <td>0.019840</td>\n",
       "      <td>4.0</td>\n",
       "      <td>0.136452</td>\n",
       "      <td>0.061485</td>\n",
       "      <td>0.105832</td>\n",
       "      <td>0.854274</td>\n",
       "      <td>0.0</td>\n",
       "      <td>3900.0</td>\n",
       "      <td>40.0</td>\n",
       "      <td>0.245835</td>\n",
       "      <td>0.0</td>\n",
       "      <td>0.0</td>\n",
       "    </tr>\n",
       "    <tr>\n",
       "      <th>4</th>\n",
       "      <td>41.0</td>\n",
       "      <td>0.697030</td>\n",
       "      <td>264663.0</td>\n",
       "      <td>0.223918</td>\n",
       "      <td>10.0</td>\n",
       "      <td>0.031479</td>\n",
       "      <td>0.127146</td>\n",
       "      <td>0.155646</td>\n",
       "      <td>0.854274</td>\n",
       "      <td>0.0</td>\n",
       "      <td>3900.0</td>\n",
       "      <td>40.0</td>\n",
       "      <td>0.245835</td>\n",
       "      <td>0.0</td>\n",
       "      <td>0.0</td>\n",
       "    </tr>\n",
       "    <tr>\n",
       "      <th>...</th>\n",
       "      <td>...</td>\n",
       "      <td>...</td>\n",
       "      <td>...</td>\n",
       "      <td>...</td>\n",
       "      <td>...</td>\n",
       "      <td>...</td>\n",
       "      <td>...</td>\n",
       "      <td>...</td>\n",
       "      <td>...</td>\n",
       "      <td>...</td>\n",
       "      <td>...</td>\n",
       "      <td>...</td>\n",
       "      <td>...</td>\n",
       "      <td>...</td>\n",
       "      <td>...</td>\n",
       "    </tr>\n",
       "    <tr>\n",
       "      <th>32556</th>\n",
       "      <td>22.0</td>\n",
       "      <td>0.697030</td>\n",
       "      <td>310152.0</td>\n",
       "      <td>0.223918</td>\n",
       "      <td>10.0</td>\n",
       "      <td>0.328092</td>\n",
       "      <td>0.019932</td>\n",
       "      <td>0.255060</td>\n",
       "      <td>0.854274</td>\n",
       "      <td>0.0</td>\n",
       "      <td>0.0</td>\n",
       "      <td>40.0</td>\n",
       "      <td>0.245835</td>\n",
       "      <td>1.0</td>\n",
       "      <td>0.0</td>\n",
       "    </tr>\n",
       "    <tr>\n",
       "      <th>32557</th>\n",
       "      <td>27.0</td>\n",
       "      <td>0.697030</td>\n",
       "      <td>257302.0</td>\n",
       "      <td>0.032769</td>\n",
       "      <td>12.0</td>\n",
       "      <td>0.459937</td>\n",
       "      <td>0.028500</td>\n",
       "      <td>0.048156</td>\n",
       "      <td>0.854274</td>\n",
       "      <td>0.0</td>\n",
       "      <td>0.0</td>\n",
       "      <td>38.0</td>\n",
       "      <td>0.245835</td>\n",
       "      <td>0.0</td>\n",
       "      <td>0.0</td>\n",
       "    </tr>\n",
       "    <tr>\n",
       "      <th>32558</th>\n",
       "      <td>40.0</td>\n",
       "      <td>0.697030</td>\n",
       "      <td>154374.0</td>\n",
       "      <td>0.322502</td>\n",
       "      <td>9.0</td>\n",
       "      <td>0.459937</td>\n",
       "      <td>0.061485</td>\n",
       "      <td>0.405178</td>\n",
       "      <td>0.854274</td>\n",
       "      <td>0.0</td>\n",
       "      <td>0.0</td>\n",
       "      <td>40.0</td>\n",
       "      <td>0.245835</td>\n",
       "      <td>1.0</td>\n",
       "      <td>1.0</td>\n",
       "    </tr>\n",
       "    <tr>\n",
       "      <th>32559</th>\n",
       "      <td>58.0</td>\n",
       "      <td>0.697030</td>\n",
       "      <td>151910.0</td>\n",
       "      <td>0.322502</td>\n",
       "      <td>9.0</td>\n",
       "      <td>0.030497</td>\n",
       "      <td>0.115783</td>\n",
       "      <td>0.105832</td>\n",
       "      <td>0.854274</td>\n",
       "      <td>0.0</td>\n",
       "      <td>0.0</td>\n",
       "      <td>40.0</td>\n",
       "      <td>0.245835</td>\n",
       "      <td>0.0</td>\n",
       "      <td>0.0</td>\n",
       "    </tr>\n",
       "    <tr>\n",
       "      <th>32560</th>\n",
       "      <td>22.0</td>\n",
       "      <td>0.697030</td>\n",
       "      <td>201490.0</td>\n",
       "      <td>0.322502</td>\n",
       "      <td>9.0</td>\n",
       "      <td>0.328092</td>\n",
       "      <td>0.115783</td>\n",
       "      <td>0.155646</td>\n",
       "      <td>0.854274</td>\n",
       "      <td>0.0</td>\n",
       "      <td>0.0</td>\n",
       "      <td>20.0</td>\n",
       "      <td>0.245835</td>\n",
       "      <td>1.0</td>\n",
       "      <td>0.0</td>\n",
       "    </tr>\n",
       "  </tbody>\n",
       "</table>\n",
       "<p>32561 rows × 15 columns</p>\n",
       "</div>"
      ],
      "text/plain": [
       "        age  workclass    fnlwgt  education  education.num  marital.status  \\\n",
       "0      90.0   0.056386   77053.0   0.322502            9.0        0.030497   \n",
       "1      82.0   0.697030  132870.0   0.322502            9.0        0.030497   \n",
       "2      66.0   0.056386  186061.0   0.223918           10.0        0.030497   \n",
       "3      54.0   0.697030  140359.0   0.019840            4.0        0.136452   \n",
       "4      41.0   0.697030  264663.0   0.223918           10.0        0.031479   \n",
       "...     ...        ...       ...        ...            ...             ...   \n",
       "32556  22.0   0.697030  310152.0   0.223918           10.0        0.328092   \n",
       "32557  27.0   0.697030  257302.0   0.032769           12.0        0.459937   \n",
       "32558  40.0   0.697030  154374.0   0.322502            9.0        0.459937   \n",
       "32559  58.0   0.697030  151910.0   0.322502            9.0        0.030497   \n",
       "32560  22.0   0.697030  201490.0   0.322502            9.0        0.328092   \n",
       "\n",
       "       occupation  relationship      race  capital.gain  capital.loss  \\\n",
       "0        0.056601      0.255060  0.854274           0.0        4356.0   \n",
       "1        0.124873      0.255060  0.854274           0.0        4356.0   \n",
       "2        0.056601      0.105832  0.095943           0.0        4356.0   \n",
       "3        0.061485      0.105832  0.854274           0.0        3900.0   \n",
       "4        0.127146      0.155646  0.854274           0.0        3900.0   \n",
       "...           ...           ...       ...           ...           ...   \n",
       "32556    0.019932      0.255060  0.854274           0.0           0.0   \n",
       "32557    0.028500      0.048156  0.854274           0.0           0.0   \n",
       "32558    0.061485      0.405178  0.854274           0.0           0.0   \n",
       "32559    0.115783      0.105832  0.854274           0.0           0.0   \n",
       "32560    0.115783      0.155646  0.854274           0.0           0.0   \n",
       "\n",
       "       hours.per.week  native.country  sex_Male  income_>50K  \n",
       "0                40.0        0.245835       0.0          0.0  \n",
       "1                18.0        0.245835       0.0          0.0  \n",
       "2                40.0        0.245835       0.0          0.0  \n",
       "3                40.0        0.245835       0.0          0.0  \n",
       "4                40.0        0.245835       0.0          0.0  \n",
       "...               ...             ...       ...          ...  \n",
       "32556            40.0        0.245835       1.0          0.0  \n",
       "32557            38.0        0.245835       0.0          0.0  \n",
       "32558            40.0        0.245835       1.0          1.0  \n",
       "32559            40.0        0.245835       0.0          0.0  \n",
       "32560            20.0        0.245835       1.0          0.0  \n",
       "\n",
       "[32561 rows x 15 columns]"
      ]
     },
     "execution_count": 28,
     "metadata": {},
     "output_type": "execute_result"
    }
   ],
   "source": [
    "new_df"
   ]
  },
  {
   "cell_type": "markdown",
   "id": "58ea798b",
   "metadata": {},
   "source": [
    "Our dataset is ready to be analyzed"
   ]
  },
  {
   "cell_type": "code",
   "execution_count": 29,
   "id": "091304f3",
   "metadata": {},
   "outputs": [],
   "source": [
    "#Saving the dataset as a new csv file\n",
    "new_df.to_csv(\"data2.csv\")"
   ]
  },
  {
   "cell_type": "code",
   "execution_count": null,
   "id": "3a271c5b",
   "metadata": {},
   "outputs": [],
   "source": []
  }
 ],
 "metadata": {
  "kernelspec": {
   "display_name": "Python 3 (ipykernel)",
   "language": "python",
   "name": "python3"
  },
  "language_info": {
   "codemirror_mode": {
    "name": "ipython",
    "version": 3
   },
   "file_extension": ".py",
   "mimetype": "text/x-python",
   "name": "python",
   "nbconvert_exporter": "python",
   "pygments_lexer": "ipython3",
   "version": "3.7.7"
  }
 },
 "nbformat": 4,
 "nbformat_minor": 5
}
